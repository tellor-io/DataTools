{
 "metadata": {
  "language_info": {
   "codemirror_mode": {
    "name": "ipython",
    "version": 3
   },
   "file_extension": ".py",
   "mimetype": "text/x-python",
   "name": "python",
   "nbconvert_exporter": "python",
   "pygments_lexer": "ipython3",
   "version": "3.8.5-final"
  },
  "orig_nbformat": 2,
  "kernelspec": {
   "name": "python38564bitpytellorpipenv3e51deaa552b4942989f74cde3799864",
   "display_name": "Python 3.8.5 64-bit ('PyTellor': pipenv)",
   "language": "python"
  }
 },
 "nbformat": 4,
 "nbformat_minor": 2,
 "cells": [
  {
   "cell_type": "code",
   "execution_count": 1,
   "metadata": {},
   "outputs": [],
   "source": [
    "import os\n",
    "\n",
    "import web3\n",
    "from web3 import Web3\n",
    "import pandas as pd\n",
    "from tqdm import tqdm\n",
    "from decouple import config"
   ]
  },
  {
   "cell_type": "code",
   "execution_count": 2,
   "metadata": {},
   "outputs": [],
   "source": [
    "w3 = Web3(Web3.HTTPProvider(f\"{config('MAINNET_ACCESS_URL')}\", request_kwargs={'timeout':60}))\n",
    "address = Web3.toChecksumAddress(\"0x0ba45a8b5d5575935b8158a88c631e9f9c95a2e5\")\n",
    "path = os.path.join('..', 'abi', 'abi.json')\n",
    "with open(path) as f:\n",
    "    abi = f.read()\n",
    "old_tellor = w3.eth.contract(address=address, abi=abi)"
   ]
  },
  {
   "cell_type": "code",
   "execution_count": 34,
   "metadata": {},
   "outputs": [
    {
     "output_type": "stream",
     "name": "stdout",
     "text": [
      "(61, 2)\n"
     ]
    },
    {
     "output_type": "execute_result",
     "data": {
      "text/plain": [
       "                                      address  balance_reported\n",
       "0  0xe39d7e6ef9263e8e53de0a2497c4dbb4716a2993          0.000100\n",
       "1  0x76d0f439fa25fc4bd37062c4ad680128176ee2df          0.001279\n",
       "2  0x5063838dafd492f77770850bfd506ae06c2d123c          0.002600\n",
       "3  0x24a21c8fcac31ae67373b6ce7d46e8d69815b1fd          0.008019\n",
       "4  0x4e290f3f60c1110636bea1637032cef9772cea1a          0.009135"
      ],
      "text/html": "<div>\n<style scoped>\n    .dataframe tbody tr th:only-of-type {\n        vertical-align: middle;\n    }\n\n    .dataframe tbody tr th {\n        vertical-align: top;\n    }\n\n    .dataframe thead th {\n        text-align: right;\n    }\n</style>\n<table border=\"1\" class=\"dataframe\">\n  <thead>\n    <tr style=\"text-align: right;\">\n      <th></th>\n      <th>address</th>\n      <th>balance_reported</th>\n    </tr>\n  </thead>\n  <tbody>\n    <tr>\n      <th>0</th>\n      <td>0xe39d7e6ef9263e8e53de0a2497c4dbb4716a2993</td>\n      <td>0.000100</td>\n    </tr>\n    <tr>\n      <th>1</th>\n      <td>0x76d0f439fa25fc4bd37062c4ad680128176ee2df</td>\n      <td>0.001279</td>\n    </tr>\n    <tr>\n      <th>2</th>\n      <td>0x5063838dafd492f77770850bfd506ae06c2d123c</td>\n      <td>0.002600</td>\n    </tr>\n    <tr>\n      <th>3</th>\n      <td>0x24a21c8fcac31ae67373b6ce7d46e8d69815b1fd</td>\n      <td>0.008019</td>\n    </tr>\n    <tr>\n      <th>4</th>\n      <td>0x4e290f3f60c1110636bea1637032cef9772cea1a</td>\n      <td>0.009135</td>\n    </tr>\n  </tbody>\n</table>\n</div>"
     },
     "metadata": {},
     "execution_count": 34
    }
   ],
   "source": [
    "#Read binance balances csv\n",
    "df = pd.read_csv('../data/Tellor3- todo fix - Hotbit.csv')\n",
    "df = df.drop([61, 62], axis=0)\n",
    "print(df.shape)\n",
    "df.head()"
   ]
  },
  {
   "cell_type": "code",
   "execution_count": 30,
   "metadata": {},
   "outputs": [
    {
     "output_type": "execute_result",
     "data": {
      "text/plain": [
       "address             0\n",
       "balance_reported    0\n",
       "dtype: int64"
      ]
     },
     "metadata": {},
     "execution_count": 30
    }
   ],
   "source": [
    "df.isna().sum()"
   ]
  },
  {
   "cell_type": "code",
   "execution_count": 31,
   "metadata": {},
   "outputs": [
    {
     "output_type": "execute_result",
     "data": {
      "text/plain": [
       "100000000000000"
      ]
     },
     "metadata": {},
     "execution_count": 31
    }
   ],
   "source": [
    "def check_balance(address):\n",
    "    address = Web3.toChecksumAddress(address)\n",
    "    return old_tellor.functions.balanceOf(address).call()\n",
    "\n",
    "check_balance('0xe39d7e6ef9263e8e53de0a2497c4dbb4716a2993')"
   ]
  },
  {
   "cell_type": "code",
   "execution_count": 36,
   "metadata": {},
   "outputs": [
    {
     "output_type": "execute_result",
     "data": {
      "text/plain": [
       "0     100000000000000\n",
       "1    1279250000000000\n",
       "2    2600000000000000\n",
       "3    8019450000000000\n",
       "4    9134810000000000\n",
       "Name: balance_validated, dtype: object"
      ]
     },
     "metadata": {},
     "execution_count": 36
    }
   ],
   "source": [
    "df[\"balance_validated\"] = df[\"address\"].apply(check_balance)\n",
    "df[\"balance_validated\"].head()"
   ]
  },
  {
   "cell_type": "code",
   "execution_count": 37,
   "metadata": {},
   "outputs": [
    {
     "output_type": "execute_result",
     "data": {
      "text/plain": [
       "0    0.000100\n",
       "1    0.001279\n",
       "2    0.002600\n",
       "3    0.008019\n",
       "4    0.009135\n",
       "Name: balance_validated, dtype: object"
      ]
     },
     "metadata": {},
     "execution_count": 37
    }
   ],
   "source": [
    "df[\"balance_validated\"] = df[\"balance_validated\"] / 1E18\n",
    "df[\"balance_validated\"].head()"
   ]
  },
  {
   "cell_type": "code",
   "execution_count": 40,
   "metadata": {},
   "outputs": [
    {
     "output_type": "stream",
     "name": "stdout",
     "text": [
      "True     51\nFalse    10\nName: balances_match, dtype: int64\n"
     ]
    },
    {
     "output_type": "execute_result",
     "data": {
      "text/plain": [
       "                                      address  balance_reported  \\\n",
       "0  0xe39d7e6ef9263e8e53de0a2497c4dbb4716a2993          0.000100   \n",
       "1  0x76d0f439fa25fc4bd37062c4ad680128176ee2df          0.001279   \n",
       "2  0x5063838dafd492f77770850bfd506ae06c2d123c          0.002600   \n",
       "3  0x24a21c8fcac31ae67373b6ce7d46e8d69815b1fd          0.008019   \n",
       "4  0x4e290f3f60c1110636bea1637032cef9772cea1a          0.009135   \n",
       "\n",
       "  balance_validated  balances_match  \n",
       "0          0.000100            True  \n",
       "1          0.001279            True  \n",
       "2          0.002600            True  \n",
       "3          0.008019            True  \n",
       "4          0.009135            True  "
      ],
      "text/html": "<div>\n<style scoped>\n    .dataframe tbody tr th:only-of-type {\n        vertical-align: middle;\n    }\n\n    .dataframe tbody tr th {\n        vertical-align: top;\n    }\n\n    .dataframe thead th {\n        text-align: right;\n    }\n</style>\n<table border=\"1\" class=\"dataframe\">\n  <thead>\n    <tr style=\"text-align: right;\">\n      <th></th>\n      <th>address</th>\n      <th>balance_reported</th>\n      <th>balance_validated</th>\n      <th>balances_match</th>\n    </tr>\n  </thead>\n  <tbody>\n    <tr>\n      <th>0</th>\n      <td>0xe39d7e6ef9263e8e53de0a2497c4dbb4716a2993</td>\n      <td>0.000100</td>\n      <td>0.000100</td>\n      <td>True</td>\n    </tr>\n    <tr>\n      <th>1</th>\n      <td>0x76d0f439fa25fc4bd37062c4ad680128176ee2df</td>\n      <td>0.001279</td>\n      <td>0.001279</td>\n      <td>True</td>\n    </tr>\n    <tr>\n      <th>2</th>\n      <td>0x5063838dafd492f77770850bfd506ae06c2d123c</td>\n      <td>0.002600</td>\n      <td>0.002600</td>\n      <td>True</td>\n    </tr>\n    <tr>\n      <th>3</th>\n      <td>0x24a21c8fcac31ae67373b6ce7d46e8d69815b1fd</td>\n      <td>0.008019</td>\n      <td>0.008019</td>\n      <td>True</td>\n    </tr>\n    <tr>\n      <th>4</th>\n      <td>0x4e290f3f60c1110636bea1637032cef9772cea1a</td>\n      <td>0.009135</td>\n      <td>0.009135</td>\n      <td>True</td>\n    </tr>\n  </tbody>\n</table>\n</div>"
     },
     "metadata": {},
     "execution_count": 40
    }
   ],
   "source": [
    "df['balances_match'] = df[\"balance_validated\"] == df['balance_reported']\n",
    "print(df['balances_match'].value_counts())\n",
    "df.head()"
   ]
  },
  {
   "cell_type": "code",
   "execution_count": 42,
   "metadata": {},
   "outputs": [
    {
     "output_type": "execute_result",
     "data": {
      "text/plain": [
       "60   -0.000001\n",
       "58   -0.000000\n",
       "31   -0.000000\n",
       "21   -0.000000\n",
       "55   -0.000000\n",
       "        ...   \n",
       "18    0.000000\n",
       "59    0.000000\n",
       "12    0.000000\n",
       "16    0.000000\n",
       "53    0.000000\n",
       "Name: diff, Length: 61, dtype: object"
      ]
     },
     "metadata": {},
     "execution_count": 42
    }
   ],
   "source": [
    "df['diff'] = df[\"balance_validated\"] - df['balance_reported']\n",
    "df['diff'].sort_values()"
   ]
  },
  {
   "cell_type": "code",
   "execution_count": 43,
   "metadata": {},
   "outputs": [],
   "source": [
    "df.to_csv('../data/Tellor3-Tally-Hotbit.csv')"
   ]
  },
  {
   "cell_type": "code",
   "execution_count": null,
   "metadata": {},
   "outputs": [],
   "source": []
  }
 ]
}