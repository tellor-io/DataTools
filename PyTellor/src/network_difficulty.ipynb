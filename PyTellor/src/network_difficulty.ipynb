{
 "metadata": {
  "language_info": {
   "codemirror_mode": {
    "name": "ipython",
    "version": 3
   },
   "file_extension": ".py",
   "mimetype": "text/x-python",
   "name": "python",
   "nbconvert_exporter": "python",
   "pygments_lexer": "ipython3",
   "version": "3.8.5-final"
  },
  "orig_nbformat": 2,
  "kernelspec": {
   "name": "python38564bitpytellorpipenv3e51deaa552b4942989f74cde3799864",
   "display_name": "Python 3.8.5 64-bit ('PyTellor': pipenv)",
   "language": "python"
  }
 },
 "nbformat": 4,
 "nbformat_minor": 2,
 "cells": [
  {
   "cell_type": "code",
   "execution_count": 46,
   "metadata": {},
   "outputs": [],
   "source": [
    "from web3 import Web3\n",
    "import pandas as pd\n",
    "from decouple import config\n",
    "from tqdm import tqdm\n"
   ]
  },
  {
   "cell_type": "code",
   "execution_count": 6,
   "metadata": {},
   "outputs": [
    {
     "output_type": "execute_result",
     "data": {
      "text/plain": [
       "True"
      ]
     },
     "metadata": {},
     "execution_count": 6
    }
   ],
   "source": [
    "w3 = Web3(Web3.HTTPProvider(config('MAINNET_ACCESS_URL')))\n",
    "w3.isConnected()"
   ]
  },
  {
   "cell_type": "code",
   "execution_count": 28,
   "metadata": {},
   "outputs": [],
   "source": [
    "address = Web3.toChecksumAddress(\"0x0ba45a8b5d5575935b8158a88c631e9f9c95a2e5\")\n",
    "path = os.path.join('..','abi', 'abi.json')\n",
    "with open(path) as f:\n",
    "    abi = f.read()\n",
    "tellor = w3.eth.contract(address=address, abi=abi)"
   ]
  },
  {
   "cell_type": "code",
   "execution_count": 37,
   "metadata": {},
   "outputs": [],
   "source": [
    "event_filter = w3.eth.filter({\n",
    "    \"startBlock\": w3.eth.getBlock('latest').number - 195000,\n",
    "    \"lastBlock\": w3.eth.getBlock('latest').number,\n",
    "    \"address\": address,\n",
    "    \"topics\": [\"0x1d85ce10456e29b67de37887496d3f1fcf1b64c79c4d07484038703a9f5c1408\"] \n",
    "})"
   ]
  },
  {
   "cell_type": "code",
   "execution_count": 41,
   "metadata": {},
   "outputs": [],
   "source": [
    "event_filter = tellor.events.NewChallenge.createFilter(\n",
    "    fromBlock=w3.eth.getBlock('latest').number - 195000)"
   ]
  },
  {
   "cell_type": "code",
   "execution_count": 43,
   "metadata": {},
   "outputs": [],
   "source": [
    "challenges = event_filter.get_all_entries()"
   ]
  },
  {
   "cell_type": "code",
   "execution_count": 44,
   "metadata": {},
   "outputs": [
    {
     "output_type": "execute_result",
     "data": {
      "text/plain": [
       "1451"
      ]
     },
     "metadata": {},
     "execution_count": 44
    }
   ],
   "source": [
    "len(challenges)"
   ]
  },
  {
   "cell_type": "code",
   "execution_count": 49,
   "metadata": {},
   "outputs": [
    {
     "output_type": "stream",
     "name": "stderr",
     "text": [
      "100%|██████████| 1451/1451 [04:14<00:00,  5.69it/s]\n"
     ]
    }
   ],
   "source": [
    "timestamps = []\n",
    "difficulties = []\n",
    "\n",
    "for i in tqdm(challenges):\n",
    "    timestamp = w3.eth.getBlock(i['blockNumber']).timestamp\n",
    "    difficulty = i['args']['_difficulty']\n",
    "\n",
    "    timestamps.append(timestamp)\n",
    "    difficulties.append(difficulty)\n",
    "    del(timestamp)\n",
    "    del(difficulty)"
   ]
  },
  {
   "cell_type": "code",
   "execution_count": null,
   "metadata": {},
   "outputs": [],
   "source": [
    "df = pd.DataFrame(\n",
    "    list(zip(tiemstamps, difficulties)),\n",
    "    columns=['Timestamp', 'Network Difficulty'])"
   ]
  },
  {
   "cell_type": "code",
   "execution_count": null,
   "metadata": {},
   "outputs": [],
   "source": [
    "fig, ax = plt.subplots(figsize=(16, 9), frameon=False)\n",
    "\n",
    "font_path = os.path.join(\"../extras\", \"Renogare.ttf\")\n",
    "font_main = fm.FontProperties(fname=font_path, size=64)\n",
    "font_path = os.path.join(\"../extras\", \"Roboto-Medium.ttf\")\n",
    "font_body = fm.FontProperties(fname=font_path, size=24)\n",
    "fname = os.path.split(font_path)[1]\n",
    "ax = sns.plot(data=df, x='Timestamp', y='NetworkDifficulty', hue='After')\n",
    "ax.set_xticklabels([])\n",
    "ax.set_xticks([])\n",
    "ax.set_yticks([])\n",
    "ax.set_xlabel('Address', fontproperties=font_body, fontsize=16, labelpad=10)\n",
    "ax.set_ylabel('Balance (TRB)', fontproperties=font_body, fontsize=16)\n",
    "ax.legend(title='Voted...', loc='center left', fontsize=20, title_fontsize=24, frameon=False, prop=font_body).set_title(title='Voted...', prop=font_body)\n",
    "ax.set_yscale(\"log\")\n",
    "\n",
    "ax.set_title('V2.6 Passes Unanimously!', fontproperties=font_main)\n",
    "# ax.title.set_fontsize(48)\n",
    "for panel in ['top', 'bottom', 'left', 'right']:\n",
    "    ax.spines[panel].set_visible(False)"
   ]
  }
 ]
}