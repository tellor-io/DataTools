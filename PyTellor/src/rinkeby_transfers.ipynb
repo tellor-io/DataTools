{
 "metadata": {
  "language_info": {
   "codemirror_mode": {
    "name": "ipython",
    "version": 3
   },
   "file_extension": ".py",
   "mimetype": "text/x-python",
   "name": "python",
   "nbconvert_exporter": "python",
   "pygments_lexer": "ipython3",
   "version": "3.8.5-final"
  },
  "orig_nbformat": 2,
  "kernelspec": {
   "name": "python38564bitpytellorpipenv3e51deaa552b4942989f74cde3799864",
   "display_name": "Python 3.8.5 64-bit ('PyTellor': pipenv)",
   "language": "python"
  }
 },
 "nbformat": 4,
 "nbformat_minor": 2,
 "cells": [
  {
   "cell_type": "code",
   "execution_count": 30,
   "metadata": {},
   "outputs": [],
   "source": [
    "import json\n",
    "\n",
    "from decouple import config\n",
    "import pandas as pd\n",
    "import web3\n",
    "from web3 import Web3"
   ]
  },
  {
   "cell_type": "code",
   "execution_count": 31,
   "metadata": {},
   "outputs": [],
   "source": [
    "#connect to web3\n",
    "w3 = Web3(Web3.HTTPProvider(config('MAINNET_ACCESS_URL'), request_kwargs={'timeout':60}))"
   ]
  },
  {
   "cell_type": "code",
   "execution_count": 32,
   "metadata": {},
   "outputs": [],
   "source": [
    "#read abi\n",
    "with open('../abi/abi.json') as f:\n",
    "    abi = f.read()\n",
    "\n",
    "#parse rinkeby data from http response\n",
    "with open('../data/rinkeby.json') as f:\n",
    "    data = json.loads(f.read())['result']"
   ]
  },
  {
   "cell_type": "code",
   "execution_count": 33,
   "metadata": {},
   "outputs": [],
   "source": [
    "#contact contract\n",
    "address = Web3.toChecksumAddress(\"0x88df592f8eb5d7bd38bfef7deb0fbc02cf3778a0\")\n",
    "tellor_contract = w3.eth.contract(address=address, abi=abi)"
   ]
  },
  {
   "cell_type": "code",
   "execution_count": 34,
   "metadata": {},
   "outputs": [
    {
     "output_type": "stream",
     "name": "stdout",
     "text": [
      "(1000, 10)\n"
     ]
    },
    {
     "output_type": "execute_result",
     "data": {
      "text/plain": [
       "                                      address  \\\n",
       "0  0x88df592f8eb5d7bd38bfef7deb0fbc02cf3778a0   \n",
       "1  0x88df592f8eb5d7bd38bfef7deb0fbc02cf3778a0   \n",
       "2  0x88df592f8eb5d7bd38bfef7deb0fbc02cf3778a0   \n",
       "3  0x88df592f8eb5d7bd38bfef7deb0fbc02cf3778a0   \n",
       "4  0x88df592f8eb5d7bd38bfef7deb0fbc02cf3778a0   \n",
       "\n",
       "                                              topics  \\\n",
       "0  [0xddf252ad1be2c89b69c2b068fc378daa952ba7f163c...   \n",
       "1  [0xddf252ad1be2c89b69c2b068fc378daa952ba7f163c...   \n",
       "2  [0xddf252ad1be2c89b69c2b068fc378daa952ba7f163c...   \n",
       "3  [0xddf252ad1be2c89b69c2b068fc378daa952ba7f163c...   \n",
       "4  [0xddf252ad1be2c89b69c2b068fc378daa952ba7f163c...   \n",
       "\n",
       "                                                data blockNumber   timeStamp  \\\n",
       "0  0x00000000000000000000000000000000000000000000...    0x7ba54a  0x60304aca   \n",
       "1  0x00000000000000000000000000000000000000000000...    0x7ba551  0x60304b33   \n",
       "2  0x00000000000000000000000000000000000000000000...    0x7ba553  0x60304b51   \n",
       "3  0x00000000000000000000000000000000000000000000...    0x7ba554  0x60304b60   \n",
       "4  0x00000000000000000000000000000000000000000000...    0x7ba555  0x60304b6f   \n",
       "\n",
       "     gasPrice  gasUsed logIndex  \\\n",
       "0  0x3b9aca00  0x1ed07      0xb   \n",
       "1  0x3b9aca00  0x1b26f      0xd   \n",
       "2  0x3b9aca00  0x1b26f      0xa   \n",
       "3  0x3b9aca00  0x1b26f      0xb   \n",
       "4  0x3b9aca00  0x1b26f      0x5   \n",
       "\n",
       "                                     transactionHash transactionIndex  \n",
       "0  0x6e036fa56f62ee9351656b2ed6c5f5c3742b00f49dba...              0x9  \n",
       "1  0x3f665e769c0cfc0a487ad48fcd5e6c4f6067f933752e...              0xe  \n",
       "2  0x860d9a2d8e7e0e23ca64053ff0186413f6e3438e3ee2...              0xc  \n",
       "3  0xb8caf1907f6734b236447a87e59796c2e72575ce83b3...              0x8  \n",
       "4  0xedd5e608e0787e04df7cdeeda04c0f5282d60233a323...              0x7  "
      ],
      "text/html": "<div>\n<style scoped>\n    .dataframe tbody tr th:only-of-type {\n        vertical-align: middle;\n    }\n\n    .dataframe tbody tr th {\n        vertical-align: top;\n    }\n\n    .dataframe thead th {\n        text-align: right;\n    }\n</style>\n<table border=\"1\" class=\"dataframe\">\n  <thead>\n    <tr style=\"text-align: right;\">\n      <th></th>\n      <th>address</th>\n      <th>topics</th>\n      <th>data</th>\n      <th>blockNumber</th>\n      <th>timeStamp</th>\n      <th>gasPrice</th>\n      <th>gasUsed</th>\n      <th>logIndex</th>\n      <th>transactionHash</th>\n      <th>transactionIndex</th>\n    </tr>\n  </thead>\n  <tbody>\n    <tr>\n      <th>0</th>\n      <td>0x88df592f8eb5d7bd38bfef7deb0fbc02cf3778a0</td>\n      <td>[0xddf252ad1be2c89b69c2b068fc378daa952ba7f163c...</td>\n      <td>0x00000000000000000000000000000000000000000000...</td>\n      <td>0x7ba54a</td>\n      <td>0x60304aca</td>\n      <td>0x3b9aca00</td>\n      <td>0x1ed07</td>\n      <td>0xb</td>\n      <td>0x6e036fa56f62ee9351656b2ed6c5f5c3742b00f49dba...</td>\n      <td>0x9</td>\n    </tr>\n    <tr>\n      <th>1</th>\n      <td>0x88df592f8eb5d7bd38bfef7deb0fbc02cf3778a0</td>\n      <td>[0xddf252ad1be2c89b69c2b068fc378daa952ba7f163c...</td>\n      <td>0x00000000000000000000000000000000000000000000...</td>\n      <td>0x7ba551</td>\n      <td>0x60304b33</td>\n      <td>0x3b9aca00</td>\n      <td>0x1b26f</td>\n      <td>0xd</td>\n      <td>0x3f665e769c0cfc0a487ad48fcd5e6c4f6067f933752e...</td>\n      <td>0xe</td>\n    </tr>\n    <tr>\n      <th>2</th>\n      <td>0x88df592f8eb5d7bd38bfef7deb0fbc02cf3778a0</td>\n      <td>[0xddf252ad1be2c89b69c2b068fc378daa952ba7f163c...</td>\n      <td>0x00000000000000000000000000000000000000000000...</td>\n      <td>0x7ba553</td>\n      <td>0x60304b51</td>\n      <td>0x3b9aca00</td>\n      <td>0x1b26f</td>\n      <td>0xa</td>\n      <td>0x860d9a2d8e7e0e23ca64053ff0186413f6e3438e3ee2...</td>\n      <td>0xc</td>\n    </tr>\n    <tr>\n      <th>3</th>\n      <td>0x88df592f8eb5d7bd38bfef7deb0fbc02cf3778a0</td>\n      <td>[0xddf252ad1be2c89b69c2b068fc378daa952ba7f163c...</td>\n      <td>0x00000000000000000000000000000000000000000000...</td>\n      <td>0x7ba554</td>\n      <td>0x60304b60</td>\n      <td>0x3b9aca00</td>\n      <td>0x1b26f</td>\n      <td>0xb</td>\n      <td>0xb8caf1907f6734b236447a87e59796c2e72575ce83b3...</td>\n      <td>0x8</td>\n    </tr>\n    <tr>\n      <th>4</th>\n      <td>0x88df592f8eb5d7bd38bfef7deb0fbc02cf3778a0</td>\n      <td>[0xddf252ad1be2c89b69c2b068fc378daa952ba7f163c...</td>\n      <td>0x00000000000000000000000000000000000000000000...</td>\n      <td>0x7ba555</td>\n      <td>0x60304b6f</td>\n      <td>0x3b9aca00</td>\n      <td>0x1b26f</td>\n      <td>0x5</td>\n      <td>0xedd5e608e0787e04df7cdeeda04c0f5282d60233a323...</td>\n      <td>0x7</td>\n    </tr>\n  </tbody>\n</table>\n</div>"
     },
     "metadata": {},
     "execution_count": 34
    }
   ],
   "source": [
    "df = pd.DataFrame(data)\n",
    "print(df.shape)\n",
    "df.head()"
   ]
  },
  {
   "cell_type": "code",
   "execution_count": 36,
   "metadata": {},
   "outputs": [
    {
     "output_type": "execute_result",
     "data": {
      "text/plain": [
       "(<Function submitMiningSolution(string,uint256[5],uint256[5])>,\n",
       " {'_nonce': 'anything will work',\n",
       "  '_requestId': [5, 4, 3, 2, 1],\n",
       "  '_value': [35546, 56113784471, 291620800, 55926910000, 1987860000]})"
      ]
     },
     "metadata": {},
     "execution_count": 36
    }
   ],
   "source": [
    "transaction = w3.eth.getTransaction(df['transactionHash'][])\n",
    "tellor_contract.decode_function_input(transaction.input)"
   ]
  },
  {
   "cell_type": "code",
   "execution_count": 39,
   "metadata": {},
   "outputs": [],
   "source": [
    "tx_receipt = w3.eth.getTransactionReceipt(df['transactionHash'][0])\n",
    "logs = tellor_contract.events.Transfer().processReceipt(tx_receipt)"
   ]
  },
  {
   "cell_type": "code",
   "execution_count": 40,
   "metadata": {},
   "outputs": [
    {
     "output_type": "execute_result",
     "data": {
      "text/plain": [
       "(AttributeDict({'args': AttributeDict({'_from': '0x0000000000000000000000000000000000000000',\n",
       "   '_to': '0x0e93f23278161bCa6F22D6268ca44691042ed437',\n",
       "   '_value': 1280300010000000129588}),\n",
       "  'event': 'Transfer',\n",
       "  'logIndex': 11,\n",
       "  'transactionIndex': 9,\n",
       "  'transactionHash': HexBytes('0x6e036fa56f62ee9351656b2ed6c5f5c3742b00f49dba0223acc538b8e44513fe'),\n",
       "  'address': '0x88dF592F8eb5D7Bd38bFeF7dEb0fBc02cf3778a0',\n",
       "  'blockHash': HexBytes('0x76562303db0b1892f64c8a34c196642c8273aca58815a68f638481f3c5d554a5'),\n",
       "  'blockNumber': 8103242}),)"
      ]
     },
     "metadata": {},
     "execution_count": 40
    }
   ],
   "source": [
    "#Iterate through every row and parse to address, from address, and value\n",
    "to_addresses = []\n",
    "from_addresses = []\n",
    "values = []\n",
    "for i in range(df.shape[0]):\n",
    "    tx_receipt = w3.eth.getTransactionReceipt(df['transactionHash'][0])\n",
    "    logs = tellor_contract.events.Transfer().processReceipt(tx_receipt)\n",
    "    _from = logs['args']['_from']\n",
    "    _to = logs['args']['_to']\n"
   ]
  },
  {
   "cell_type": "code",
   "execution_count": null,
   "metadata": {},
   "outputs": [],
   "source": []
  }
 ]
}