{
 "metadata": {
  "language_info": {
   "codemirror_mode": {
    "name": "ipython",
    "version": 3
   },
   "file_extension": ".py",
   "mimetype": "text/x-python",
   "name": "python",
   "nbconvert_exporter": "python",
   "pygments_lexer": "ipython3",
   "version": "3.8.5-final"
  },
  "orig_nbformat": 2,
  "kernelspec": {
   "name": "python38564bitpytellorpipenv3e51deaa552b4942989f74cde3799864",
   "display_name": "Python 3.8.5 64-bit ('PyTellor': pipenv)",
   "language": "python"
  }
 },
 "nbformat": 4,
 "nbformat_minor": 2,
 "cells": [
  {
   "source": [
    "# Top TRB Holders"
   ],
   "cell_type": "markdown",
   "metadata": {}
  },
  {
   "source": [
    "## Imports"
   ],
   "cell_type": "markdown",
   "metadata": {}
  },
  {
   "cell_type": "code",
   "execution_count": 2,
   "metadata": {},
   "outputs": [],
   "source": [
    "from decouple import config\n",
    "import pandas as pd\n",
    "import seaborn as sns\n",
    "from tqdm import tqdm\n",
    "import web3\n",
    "from web3 import Web3"
   ]
  },
  {
   "source": [
    "## Global variables"
   ],
   "cell_type": "markdown",
   "metadata": {}
  },
  {
   "cell_type": "code",
   "execution_count": 4,
   "metadata": {},
   "outputs": [
    {
     "output_type": "stream",
     "name": "stdout",
     "text": [
      "True\n"
     ]
    }
   ],
   "source": [
    "mainnet_url = config('MAINNET_ACCESS_URL')\n",
    "w3 = Web3(Web3.HTTPProvider(mainnet_url, request_kwargs={'timeout':60}))\n",
    "print(w3.isConnected())"
   ]
  },
  {
   "cell_type": "code",
   "execution_count": 52,
   "metadata": {},
   "outputs": [],
   "source": [
    "last_block = w3.eth.blockNumber\n",
    "start_block = last_block - 2000"
   ]
  },
  {
   "source": [
    "path = os.path.join('..', 'abi', 'abi.json')\n",
    "with open(path) as f:\n",
    "    abi = f.read()\n",
    "address = Web3.toChecksumAddress(\"0x0ba45a8b5d5575935b8158a88c631e9f9c95a2e5\")\n",
    "tellor_contract = w3.eth.contract(address=address, abi=abi)"
   ],
   "cell_type": "code",
   "metadata": {},
   "execution_count": 53,
   "outputs": []
  },
  {
   "source": [
    "## Filtering"
   ],
   "cell_type": "markdown",
   "metadata": {}
  },
  {
   "cell_type": "code",
   "execution_count": 54,
   "metadata": {},
   "outputs": [],
   "source": [
    "fil = w3.eth.filter({\n",
    "    'fromBlock': start_block,\n",
    "    'toBlock': last_block,\n",
    "    'address': address\n",
    "})"
   ]
  },
  {
   "cell_type": "code",
   "execution_count": 55,
   "metadata": {},
   "outputs": [],
   "source": [
    "tx_list = fil.get_all_entries()"
   ]
  },
  {
   "cell_type": "code",
   "execution_count": 56,
   "metadata": {},
   "outputs": [
    {
     "output_type": "stream",
     "name": "stdout",
     "text": [
      "AttributeDict({'address': '0x0Ba45A8b5d5575935B8158a88C631E9F9C95a2e5', 'topics': [HexBytes('0xbeb3b9f46c8d7bb00c873fca10d307538df350866d25f891ffb395147ddbdc45'), HexBytes('0xa248cdebe287dbd3a5556de9e63420213b2997451246eeb2800295854f2b1fd8')], 'data': '0x0000000000000000000000000000000000000000000000000000000000000039000000000000000000000000000000000000000000000000000000000000000200000000000000000000000000000000000000000000000000000000000000030000000000000000000000000000000000000000000000000000000000000032000000000000000000000000000000000000000000000000000000000000000a000000000000000000000000000000000000000000000000000000005ffedfd000000000000000000000000000000000000000000000000000000000000c706400000000000000000000000000000000000000000000000000000000000c707e00000000000000000000000000000000000000000000000000000000000c746400000000000000000000000000000000000000000000000000000000000c748800000000000000000000000000000000000000000000000000000000000c757c0000000000000000000000000000000000000000000000000000000000000000', 'blockNumber': 11646443, 'transactionHash': HexBytes('0xa34ac195c19603d1b8436b53dc4f603afbbc6ee43fd3c76b2653ca4667a4ee48'), 'transactionIndex': 40, 'blockHash': HexBytes('0xf06296ca1340ee72b7023de205b303f446bcd1bc67e2d847d3d027b6962b6633'), 'logIndex': 101, 'removed': False})\n"
     ]
    }
   ],
   "source": [
    "print(tx_list[0])"
   ]
  },
  {
   "source": [
    "## Retrieving Transfers and TipAdded Events"
   ],
   "cell_type": "markdown",
   "metadata": {}
  },
  {
   "cell_type": "code",
   "execution_count": 63,
   "metadata": {},
   "outputs": [],
   "source": [
    "def update_balances(events_list, balances):\n",
    "    '''Loops through DataFrame representing events\n",
    "       and updates address balances'''\n",
    "    for i in tqdm(events_list):\n",
    "        _from = i['args']['_from']\n",
    "        _to = i['args']['_to']\n",
    "        _value = i['args']['_value']\n",
    "        if _to not in balances:\n",
    "            balances[_to] = _value\n",
    "        else:\n",
    "            balances[_to] += _value\n",
    "\n",
    "        if _from not in balances:\n",
    "            balances[_from] = -_value\n",
    "        else:\n",
    "            balances[_from] -= _value\n",
    "        "
   ]
  },
  {
   "cell_type": "code",
   "execution_count": 57,
   "metadata": {},
   "outputs": [],
   "source": [
    "fil = tellor_contract.events.Transfer.createFilter(fromBlock=start_block, toBlock=last_block)\n",
    "transfers = fil.get_all_entries()\n",
    "\n",
    "fil = tellor_contract.events.TipAdded.createFilter(fromBlock=start_block, toBlock=lastBlock)\n",
    "tips_added = fil.get_all_entries()"
   ]
  },
  {
   "cell_type": "code",
   "execution_count": 64,
   "metadata": {},
   "outputs": [
    {
     "output_type": "stream",
     "name": "stderr",
     "text": [
      "100%|██████████| 197/197 [00:00<00:00, 486618.31it/s]\n"
     ]
    }
   ],
   "source": [
    "\n",
    "balances = {}\n",
    "update_balances(transfers, balances)\n",
    "update_balances()\n"
   ]
  },
  {
   "cell_type": "code",
   "execution_count": 59,
   "metadata": {},
   "outputs": [
    {
     "output_type": "execute_result",
     "data": {
      "text/plain": [
       "{'0x8EEF198A83b1b4266F5C386D8c5e400c9F7782f0': 24403333333333333330,\n",
       " '0x0Ba45A8b5d5575935B8158a88C631E9F9C95a2e5': -480094999999999999958,\n",
       " '0x0966AEb41F4a94aAB7FB595A22CAa7b64ce73aA2': -559576666666666666671,\n",
       " '0x96eB60e3AcB5D123dBdE49B51b0ddACBA7C8b64a': 23909999999999999998,\n",
       " '0x7034E17f11b382545FFd618620Ca72e271AEa5F6': 41096666666666666664,\n",
       " '0x4fB035C3AB1DDaeF58Dd3A830Ae55B3E57cce983': 43263333333333333332,\n",
       " '0x39E419bA25196794B595B2a595Ea8E527ddC9856': 43644999999999999993,\n",
       " '0xD4DA002e714a7341a7d0fB1899F8260508E42653': 0,\n",
       " '0xE1aAa4aD9657C1265f0caefe057b85d807860fc8': 0,\n",
       " '0x6efF3372fa352b239Bb24ff91b423A572347000D': 964500000000000000000,\n",
       " '0x5086980D1e667E76ec9146ad6db5A09d69074257': 54098371095493753281,\n",
       " '0x70258Aa9830C2C84d855Df1D61E12C256F6448b4': 41542743141985238509,\n",
       " '0x36fa937c8F96B10Ec48Dd97B117eaFcc934Ccd1D': 22319999999999999998,\n",
       " '0xB0f7ba3827b4a392B459355BB1dCBfcE0A4D7d96': 28246666666666666665,\n",
       " '0xF9650165aB28Abf7BB59c1DE36323F5F96504193': 34339999999999999998,\n",
       " '0x3f5CE5FBFe3E9af3971dD833D26bA9b5C936f0bE': 13936081431683158114848,\n",
       " '0xef389dB10c945FC965FeB6DCd834DaC889a31a96': -127065000000000000000,\n",
       " '0xFc429809b7c68df3A48AfB1726a7C909c8Ed7D9f': -113961340000000000000,\n",
       " '0xFCD9e422214B87ec392921b54aB4874aD717CE69': -13882629088683158114848,\n",
       " '0xdBd1eb9f9b3EA780C7D8A59a1DC70E96673f6085': 13399999999999999999,\n",
       " '0x1F35c39915CEF153DC882d3B792a7cE399812b45': 21533333333333333332,\n",
       " '0x87B80DE74CAF36eBDE33d48773C8be7C88C6a8eB': 50671368516895287411,\n",
       " '0x3aff546fb20d544EeE1347869C6a41eb819c8bea': 4896666666666666666,\n",
       " '0x9FE440caa9642160604aA3Dde9C15d5c7C4A90C7': 21273333333333333332,\n",
       " '0x381310a3b019213606e177e1Af82A3ec5B519C50': -105762003000000000000,\n",
       " '0x34bF2E2339E0cDF3954820177125b1e60a79E36b': 1038827815069726962021,\n",
       " '0x393262Caeba9C858cc7A215967b411e3b90EB020': 16806666666666666666,\n",
       " '0x000000000A2daEFe11b26dCDaeCdE7d33AD03e9D': 0,\n",
       " '0x1373E57F764a7944bDd7A4BD5ca3007D496934DA': -26268773916825997463,\n",
       " '0x4CD2f738Cc574C850F8eF11e192396A39D1d9415': -199840000000000000000,\n",
       " '0xfDbAA5EEe7Cdf45EEc3a71a672065A67191Fda7A': -67260000000000000000,\n",
       " '0x02585046A07C7E6b86036c4374d5d1F08C8a6307': 5039000000000000000,\n",
       " '0x708396f17127c42383E3b9014072679b2F60B82f': -103113387000000000000,\n",
       " '0xf35076c492C461e10Cf08dDccD5e7aF859A1F06d': 0,\n",
       " '0x47a29cAD50Aa203c23c94005732bcb103bfa4235': -170698903606883120383,\n",
       " '0xc191637E72c59C2060E73E89b6e26e64204d8105': -205140369719602479104,\n",
       " '0x75Ca0EF1F46a6Fc7aaD6b19D3Cdc045850F29195': -50000000000000000000,\n",
       " '0x42C3CD223fb670BDb9f7414DF4982463B353E823': 642680000000000000000,\n",
       " '0x6cC5F688a315f3dC28A7781717a9A798a59fDA7b': -642680000000000000000,\n",
       " '0x5b8a5D655C818B6197128bfA97Fdb74B3c265017': -26586692505924932847688,\n",
       " '0xF82E9Cd64f932F31B842DcF66Dc7c23f80D4C27D': 15142000000000000000000,\n",
       " '0xEa6A344cb3Db6160f4aa8bD5807fE381F08F9937': 11434692505924932847688,\n",
       " '0x85E840b81BB210BA93e1eB25492D34B0EA5D4962': 34877978000000000000,\n",
       " '0x0681d8Db095565FE8A346fA0277bFfdE9C0eDBBF': -437984837000000000000,\n",
       " '0x50D4783098476CD402F0b5e11CaCcf99A98df82B': 8696666666666666665,\n",
       " '0x90a191c17E755917B03E74B29Fa26Fdb10772771': 5319999999999999998,\n",
       " '0xB038C7996493d4818A6Df1C9db2b3f835a7f14C5': -78051137666312688257,\n",
       " '0x11af101D2A65bEFD2f4c27fE1e566d62fF0Cd8EE': 19321449000000000000,\n",
       " '0x7aBc2DeF65Efd4f3a2a7018D25d4Ebb1cBC88CDB': -19321449000000000000,\n",
       " '0x13D9F8a2Da5e73Ea5bB61Ddb1b7826b905E04bF6': 10619999999999999999,\n",
       " '0x8d142F1115f41B8da9D45358daB2153b5F079875': 6253333333333333332,\n",
       " '0xDbC1b60fDd000F645B668d8026A28C26772A151c': -241863333333333333334,\n",
       " '0xfDc6Fdb071A116714E1f73186339d9fA1623867F': -154933333333333333334,\n",
       " '0x0CE34F2d35B9553499A75bb5100f72326201747A': 532031773570064102,\n",
       " '0x8cF1238bF670D12db9d12eB6A7584B415c8aa2e0': 265483855011452157952,\n",
       " '0x7BA58F14A4c8598875F34356AEF07Df01707D6c4': 24817385205309937283,\n",
       " '0xBCED67c5538Cd284410CC340954167A84449a25E': 10756666666666666666,\n",
       " '0x0C9411796D09f6Fe48B28D2271CB9D609AD951B3': 14089999999999999999,\n",
       " '0x173020C64df2A661b7C1EeAf85FB0bBB7d0D3290': 10183333333333333333,\n",
       " '0x2305C00a572Fb60caF9789a4d884456E5cCb7596': -5087468009674425249,\n",
       " '0x2ADfa71b215b3a371f67323189146485Ee09176d': 249560000000000000000,\n",
       " '0xa12EC5E0fEf29032D3e038631a99fE879c8f759f': 146277590745883827493,\n",
       " '0x0fBBA37ae16Df6f8eb1b2567c935A5ef4a102b40': 0,\n",
       " '0xE93381fB4c4F14bDa253907b18faD305D799241a': -11108400000000000000,\n",
       " '0xC7807e24338B41a34d849492920f2b9D0E4DE2CD': 11108400000000000000,\n",
       " '0x0957756646c5e808005dbF7970778c4AE5E80aEB': 58000000000000000000,\n",
       " '0x64B464D6AD063F44bF3dBb45F42ed65f134c01B0': 0,\n",
       " '0xb17DB53E5519f804F48A11740793487296751236': 0,\n",
       " '0xD08bE82eAf2f56D3aDA11E7862D12bcd9f263b29': 8913333333333333332,\n",
       " '0x52dC669B1E52D1774f7160F91a68185aff9fFda6': -15477126706380965372,\n",
       " '0x9b60822200CE4ac7e842F94706621f1E6998a16D': 10000000000000000000,\n",
       " '0x87fbaB2dC207e6D966B58c9BaA320bdc2027dE9B': -10000000000000000000,\n",
       " '0xc36799e447A9516013F30631481A8B494400C05A': 153546859000000000000,\n",
       " '0x54d8d03d670C1Ec48c305aCd1348c62089C7D907': 46485000000000000000,\n",
       " '0x85b931A32a0725Be14285B66f1a22178c672d69B': -46485000000000000000,\n",
       " '0xe7A4Dd3f2B5a2F0d6c0Cbe42e0176bDd00541851': 58997124623563053276,\n",
       " '0x6f6aAbFdE03c04b8D1aE8131e534528927c0F6eC': -92200459233620568841,\n",
       " '0x766777F112c020938e68F2dA7132332a2a9776cb': 0,\n",
       " '0xECb65cc273ccac0778Be7861658fa5a085cfd233': -106824000000000000000,\n",
       " '0x86edA5e8c685a949199317B7903542D80e1C8Aec': -262989659324580036659,\n",
       " '0x2Fe9811E6B3ccEb5c14cCa6523F10FFDf4288aF6': 10574492059347598855,\n",
       " '0xE2C066242B4ABf02DA3B502A4534Be58B0EDf214': -10574492059347598855}"
      ]
     },
     "metadata": {},
     "execution_count": 59
    }
   ],
   "source": [
    "balances"
   ]
  },
  {
   "cell_type": "code",
   "execution_count": 5,
   "metadata": {},
   "outputs": [
    {
     "output_type": "execute_result",
     "data": {
      "text/plain": [
       "                                        _from  \\\n",
       "0  0x70258Aa9830C2C84d855Df1D61E12C256F6448b4   \n",
       "1  0xCCE8D59AFFdd93be338FC77FA0A298C2CB65Da59   \n",
       "2  0x70258Aa9830C2C84d855Df1D61E12C256F6448b4   \n",
       "3  0x0Ba45A8b5d5575935B8158a88C631E9F9C95a2e5   \n",
       "4  0x0Ba45A8b5d5575935B8158a88C631E9F9C95a2e5   \n",
       "\n",
       "                                          _to                _value  \\\n",
       "0  0xac9356ea58183E32B9c8D6F8f4407843B1C8fE78   1619452823092278265   \n",
       "1  0xABb63D4a0b8739Fa9B65f55A999d10c61921fAB8  59910093200000000000   \n",
       "2  0x2Cc0b05b1C4f2578550BdF5eb6eA170d1BeA2bA8    502965941025387216   \n",
       "3  0x173020C64df2A661b7C1EeAf85FB0bBB7d0D3290   7356666666666666666   \n",
       "4  0xDbC1b60fDd000F645B668d8026A28C26772A151c   7356666666666666666   \n",
       "\n",
       "                                             tx_hash  \\\n",
       "0  0x23d987d044cdf92f4c945a70d25d4dbfceb087eab9ef...   \n",
       "1  0x36f250302e0fb2c5c8e636ad42f7013f4fe228d4823a...   \n",
       "2  0xab80c2583c9fcbee1c57630357f66963fad06a7b3679...   \n",
       "3  0xf19813cce5f0ba090cfbc5f066b40d2e241fd3da0d73...   \n",
       "4  0xf19813cce5f0ba090cfbc5f066b40d2e241fd3da0d73...   \n",
       "\n",
       "                                      address  eth_block_number     gas_price  \n",
       "0  0x0Ba45A8b5d5575935B8158a88C631E9F9C95a2e5          11550037  125400000000  \n",
       "1  0x0Ba45A8b5d5575935B8158a88C631E9F9C95a2e5          11550069  175000000000  \n",
       "2  0x0Ba45A8b5d5575935B8158a88C631E9F9C95a2e5          11550091  131000000000  \n",
       "3  0x0Ba45A8b5d5575935B8158a88C631E9F9C95a2e5          11550092   78000001459  \n",
       "4  0x0Ba45A8b5d5575935B8158a88C631E9F9C95a2e5          11550092   78000001459  "
      ],
      "text/html": "<div>\n<style scoped>\n    .dataframe tbody tr th:only-of-type {\n        vertical-align: middle;\n    }\n\n    .dataframe tbody tr th {\n        vertical-align: top;\n    }\n\n    .dataframe thead th {\n        text-align: right;\n    }\n</style>\n<table border=\"1\" class=\"dataframe\">\n  <thead>\n    <tr style=\"text-align: right;\">\n      <th></th>\n      <th>_from</th>\n      <th>_to</th>\n      <th>_value</th>\n      <th>tx_hash</th>\n      <th>address</th>\n      <th>eth_block_number</th>\n      <th>gas_price</th>\n    </tr>\n  </thead>\n  <tbody>\n    <tr>\n      <th>0</th>\n      <td>0x70258Aa9830C2C84d855Df1D61E12C256F6448b4</td>\n      <td>0xac9356ea58183E32B9c8D6F8f4407843B1C8fE78</td>\n      <td>1619452823092278265</td>\n      <td>0x23d987d044cdf92f4c945a70d25d4dbfceb087eab9ef...</td>\n      <td>0x0Ba45A8b5d5575935B8158a88C631E9F9C95a2e5</td>\n      <td>11550037</td>\n      <td>125400000000</td>\n    </tr>\n    <tr>\n      <th>1</th>\n      <td>0xCCE8D59AFFdd93be338FC77FA0A298C2CB65Da59</td>\n      <td>0xABb63D4a0b8739Fa9B65f55A999d10c61921fAB8</td>\n      <td>59910093200000000000</td>\n      <td>0x36f250302e0fb2c5c8e636ad42f7013f4fe228d4823a...</td>\n      <td>0x0Ba45A8b5d5575935B8158a88C631E9F9C95a2e5</td>\n      <td>11550069</td>\n      <td>175000000000</td>\n    </tr>\n    <tr>\n      <th>2</th>\n      <td>0x70258Aa9830C2C84d855Df1D61E12C256F6448b4</td>\n      <td>0x2Cc0b05b1C4f2578550BdF5eb6eA170d1BeA2bA8</td>\n      <td>502965941025387216</td>\n      <td>0xab80c2583c9fcbee1c57630357f66963fad06a7b3679...</td>\n      <td>0x0Ba45A8b5d5575935B8158a88C631E9F9C95a2e5</td>\n      <td>11550091</td>\n      <td>131000000000</td>\n    </tr>\n    <tr>\n      <th>3</th>\n      <td>0x0Ba45A8b5d5575935B8158a88C631E9F9C95a2e5</td>\n      <td>0x173020C64df2A661b7C1EeAf85FB0bBB7d0D3290</td>\n      <td>7356666666666666666</td>\n      <td>0xf19813cce5f0ba090cfbc5f066b40d2e241fd3da0d73...</td>\n      <td>0x0Ba45A8b5d5575935B8158a88C631E9F9C95a2e5</td>\n      <td>11550092</td>\n      <td>78000001459</td>\n    </tr>\n    <tr>\n      <th>4</th>\n      <td>0x0Ba45A8b5d5575935B8158a88C631E9F9C95a2e5</td>\n      <td>0xDbC1b60fDd000F645B668d8026A28C26772A151c</td>\n      <td>7356666666666666666</td>\n      <td>0xf19813cce5f0ba090cfbc5f066b40d2e241fd3da0d73...</td>\n      <td>0x0Ba45A8b5d5575935B8158a88C631E9F9C95a2e5</td>\n      <td>11550092</td>\n      <td>78000001459</td>\n    </tr>\n  </tbody>\n</table>\n</div>"
     },
     "metadata": {},
     "execution_count": 5
    }
   ],
   "source": [
    "df = pd.read_csv('../data/transfers.csv')\n",
    "df.head()"
   ]
  },
  {
   "cell_type": "code",
   "execution_count": null,
   "metadata": {},
   "outputs": [],
   "source": []
  }
 ]
}